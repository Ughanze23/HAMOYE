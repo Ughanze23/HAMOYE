{
 "cells": [
  {
   "cell_type": "code",
   "execution_count": 1,
   "metadata": {},
   "outputs": [],
   "source": [
    "#import modules\n",
    "import numpy as np\n",
    "import pandas as pd\n",
    "import matplotlib.pyplot as plt\n",
    "import seaborn as sns\n",
    "%matplotlib inline\n",
    "from sklearn.preprocessing import MinMaxScaler\n",
    "from sklearn.model_selection import train_test_split\n",
    "from sklearn.linear_model import LinearRegression\n",
    "pd.set_option('display.max_rows', 500)\n",
    "pd.set_option('display.max_columns', 500)\n",
    "pd.set_option('display.width', 1000)"
   ]
  },
  {
   "cell_type": "code",
   "execution_count": 2,
   "metadata": {},
   "outputs": [],
   "source": [
    "#read in data set\n",
    "df = pd.read_csv(\"./downloads/energydata_complete.csv\")"
   ]
  },
  {
   "cell_type": "code",
   "execution_count": 3,
   "metadata": {},
   "outputs": [
    {
     "data": {
      "text/html": [
       "<div>\n",
       "<style scoped>\n",
       "    .dataframe tbody tr th:only-of-type {\n",
       "        vertical-align: middle;\n",
       "    }\n",
       "\n",
       "    .dataframe tbody tr th {\n",
       "        vertical-align: top;\n",
       "    }\n",
       "\n",
       "    .dataframe thead th {\n",
       "        text-align: right;\n",
       "    }\n",
       "</style>\n",
       "<table border=\"1\" class=\"dataframe\">\n",
       "  <thead>\n",
       "    <tr style=\"text-align: right;\">\n",
       "      <th></th>\n",
       "      <th>date</th>\n",
       "      <th>Appliances</th>\n",
       "      <th>lights</th>\n",
       "      <th>T1</th>\n",
       "      <th>RH_1</th>\n",
       "      <th>T2</th>\n",
       "      <th>RH_2</th>\n",
       "      <th>T3</th>\n",
       "      <th>RH_3</th>\n",
       "      <th>T4</th>\n",
       "      <th>RH_4</th>\n",
       "      <th>T5</th>\n",
       "      <th>RH_5</th>\n",
       "      <th>T6</th>\n",
       "      <th>RH_6</th>\n",
       "      <th>T7</th>\n",
       "      <th>RH_7</th>\n",
       "      <th>T8</th>\n",
       "      <th>RH_8</th>\n",
       "      <th>T9</th>\n",
       "      <th>RH_9</th>\n",
       "      <th>T_out</th>\n",
       "      <th>Press_mm_hg</th>\n",
       "      <th>RH_out</th>\n",
       "      <th>Windspeed</th>\n",
       "      <th>Visibility</th>\n",
       "      <th>Tdewpoint</th>\n",
       "      <th>rv1</th>\n",
       "      <th>rv2</th>\n",
       "    </tr>\n",
       "  </thead>\n",
       "  <tbody>\n",
       "    <tr>\n",
       "      <th>0</th>\n",
       "      <td>2016-01-11 17:00:00</td>\n",
       "      <td>60</td>\n",
       "      <td>30</td>\n",
       "      <td>19.89</td>\n",
       "      <td>47.596667</td>\n",
       "      <td>19.2</td>\n",
       "      <td>44.790000</td>\n",
       "      <td>19.79</td>\n",
       "      <td>44.730000</td>\n",
       "      <td>19.000000</td>\n",
       "      <td>45.566667</td>\n",
       "      <td>17.166667</td>\n",
       "      <td>55.20</td>\n",
       "      <td>7.026667</td>\n",
       "      <td>84.256667</td>\n",
       "      <td>17.200000</td>\n",
       "      <td>41.626667</td>\n",
       "      <td>18.2</td>\n",
       "      <td>48.900000</td>\n",
       "      <td>17.033333</td>\n",
       "      <td>45.53</td>\n",
       "      <td>6.600000</td>\n",
       "      <td>733.5</td>\n",
       "      <td>92.0</td>\n",
       "      <td>7.000000</td>\n",
       "      <td>63.000000</td>\n",
       "      <td>5.3</td>\n",
       "      <td>13.275433</td>\n",
       "      <td>13.275433</td>\n",
       "    </tr>\n",
       "    <tr>\n",
       "      <th>1</th>\n",
       "      <td>2016-01-11 17:10:00</td>\n",
       "      <td>60</td>\n",
       "      <td>30</td>\n",
       "      <td>19.89</td>\n",
       "      <td>46.693333</td>\n",
       "      <td>19.2</td>\n",
       "      <td>44.722500</td>\n",
       "      <td>19.79</td>\n",
       "      <td>44.790000</td>\n",
       "      <td>19.000000</td>\n",
       "      <td>45.992500</td>\n",
       "      <td>17.166667</td>\n",
       "      <td>55.20</td>\n",
       "      <td>6.833333</td>\n",
       "      <td>84.063333</td>\n",
       "      <td>17.200000</td>\n",
       "      <td>41.560000</td>\n",
       "      <td>18.2</td>\n",
       "      <td>48.863333</td>\n",
       "      <td>17.066667</td>\n",
       "      <td>45.56</td>\n",
       "      <td>6.483333</td>\n",
       "      <td>733.6</td>\n",
       "      <td>92.0</td>\n",
       "      <td>6.666667</td>\n",
       "      <td>59.166667</td>\n",
       "      <td>5.2</td>\n",
       "      <td>18.606195</td>\n",
       "      <td>18.606195</td>\n",
       "    </tr>\n",
       "    <tr>\n",
       "      <th>2</th>\n",
       "      <td>2016-01-11 17:20:00</td>\n",
       "      <td>50</td>\n",
       "      <td>30</td>\n",
       "      <td>19.89</td>\n",
       "      <td>46.300000</td>\n",
       "      <td>19.2</td>\n",
       "      <td>44.626667</td>\n",
       "      <td>19.79</td>\n",
       "      <td>44.933333</td>\n",
       "      <td>18.926667</td>\n",
       "      <td>45.890000</td>\n",
       "      <td>17.166667</td>\n",
       "      <td>55.09</td>\n",
       "      <td>6.560000</td>\n",
       "      <td>83.156667</td>\n",
       "      <td>17.200000</td>\n",
       "      <td>41.433333</td>\n",
       "      <td>18.2</td>\n",
       "      <td>48.730000</td>\n",
       "      <td>17.000000</td>\n",
       "      <td>45.50</td>\n",
       "      <td>6.366667</td>\n",
       "      <td>733.7</td>\n",
       "      <td>92.0</td>\n",
       "      <td>6.333333</td>\n",
       "      <td>55.333333</td>\n",
       "      <td>5.1</td>\n",
       "      <td>28.642668</td>\n",
       "      <td>28.642668</td>\n",
       "    </tr>\n",
       "    <tr>\n",
       "      <th>3</th>\n",
       "      <td>2016-01-11 17:30:00</td>\n",
       "      <td>50</td>\n",
       "      <td>40</td>\n",
       "      <td>19.89</td>\n",
       "      <td>46.066667</td>\n",
       "      <td>19.2</td>\n",
       "      <td>44.590000</td>\n",
       "      <td>19.79</td>\n",
       "      <td>45.000000</td>\n",
       "      <td>18.890000</td>\n",
       "      <td>45.723333</td>\n",
       "      <td>17.166667</td>\n",
       "      <td>55.09</td>\n",
       "      <td>6.433333</td>\n",
       "      <td>83.423333</td>\n",
       "      <td>17.133333</td>\n",
       "      <td>41.290000</td>\n",
       "      <td>18.1</td>\n",
       "      <td>48.590000</td>\n",
       "      <td>17.000000</td>\n",
       "      <td>45.40</td>\n",
       "      <td>6.250000</td>\n",
       "      <td>733.8</td>\n",
       "      <td>92.0</td>\n",
       "      <td>6.000000</td>\n",
       "      <td>51.500000</td>\n",
       "      <td>5.0</td>\n",
       "      <td>45.410389</td>\n",
       "      <td>45.410389</td>\n",
       "    </tr>\n",
       "    <tr>\n",
       "      <th>4</th>\n",
       "      <td>2016-01-11 17:40:00</td>\n",
       "      <td>60</td>\n",
       "      <td>40</td>\n",
       "      <td>19.89</td>\n",
       "      <td>46.333333</td>\n",
       "      <td>19.2</td>\n",
       "      <td>44.530000</td>\n",
       "      <td>19.79</td>\n",
       "      <td>45.000000</td>\n",
       "      <td>18.890000</td>\n",
       "      <td>45.530000</td>\n",
       "      <td>17.200000</td>\n",
       "      <td>55.09</td>\n",
       "      <td>6.366667</td>\n",
       "      <td>84.893333</td>\n",
       "      <td>17.200000</td>\n",
       "      <td>41.230000</td>\n",
       "      <td>18.1</td>\n",
       "      <td>48.590000</td>\n",
       "      <td>17.000000</td>\n",
       "      <td>45.40</td>\n",
       "      <td>6.133333</td>\n",
       "      <td>733.9</td>\n",
       "      <td>92.0</td>\n",
       "      <td>5.666667</td>\n",
       "      <td>47.666667</td>\n",
       "      <td>4.9</td>\n",
       "      <td>10.084097</td>\n",
       "      <td>10.084097</td>\n",
       "    </tr>\n",
       "  </tbody>\n",
       "</table>\n",
       "</div>"
      ],
      "text/plain": [
       "                  date  Appliances  lights     T1       RH_1    T2       RH_2     T3       RH_3         T4       RH_4         T5   RH_5        T6       RH_6         T7       RH_7    T8       RH_8         T9   RH_9     T_out  Press_mm_hg  RH_out  Windspeed  Visibility  Tdewpoint        rv1        rv2\n",
       "0  2016-01-11 17:00:00          60      30  19.89  47.596667  19.2  44.790000  19.79  44.730000  19.000000  45.566667  17.166667  55.20  7.026667  84.256667  17.200000  41.626667  18.2  48.900000  17.033333  45.53  6.600000        733.5    92.0   7.000000   63.000000        5.3  13.275433  13.275433\n",
       "1  2016-01-11 17:10:00          60      30  19.89  46.693333  19.2  44.722500  19.79  44.790000  19.000000  45.992500  17.166667  55.20  6.833333  84.063333  17.200000  41.560000  18.2  48.863333  17.066667  45.56  6.483333        733.6    92.0   6.666667   59.166667        5.2  18.606195  18.606195\n",
       "2  2016-01-11 17:20:00          50      30  19.89  46.300000  19.2  44.626667  19.79  44.933333  18.926667  45.890000  17.166667  55.09  6.560000  83.156667  17.200000  41.433333  18.2  48.730000  17.000000  45.50  6.366667        733.7    92.0   6.333333   55.333333        5.1  28.642668  28.642668\n",
       "3  2016-01-11 17:30:00          50      40  19.89  46.066667  19.2  44.590000  19.79  45.000000  18.890000  45.723333  17.166667  55.09  6.433333  83.423333  17.133333  41.290000  18.1  48.590000  17.000000  45.40  6.250000        733.8    92.0   6.000000   51.500000        5.0  45.410389  45.410389\n",
       "4  2016-01-11 17:40:00          60      40  19.89  46.333333  19.2  44.530000  19.79  45.000000  18.890000  45.530000  17.200000  55.09  6.366667  84.893333  17.200000  41.230000  18.1  48.590000  17.000000  45.40  6.133333        733.9    92.0   5.666667   47.666667        4.9  10.084097  10.084097"
      ]
     },
     "execution_count": 3,
     "metadata": {},
     "output_type": "execute_result"
    }
   ],
   "source": [
    "#preview data\n",
    "df.head()"
   ]
  },
  {
   "cell_type": "markdown",
   "metadata": {},
   "source": [
    "\n",
    "Attribute Information:\n",
    "\n",
    "Date, time year-month-day hour:minute:second\n",
    "\n",
    "Appliances, energy use in Wh\n",
    "\n",
    "lights, energy use of light fixtures in the house in Wh\n",
    "\n",
    "T1, Temperature in kitchen area, in Celsius\n",
    "\n",
    "RH_1, Humidity in kitchen area, in %\n",
    "\n",
    "T2, Temperature in living room area, in Celsius\n",
    "\n",
    "RH_2, Humidity in living room area, in %\n",
    "\n",
    "T3, Temperature in laundry room area\n",
    "\n",
    "RH_3, Humidity in laundry room area, in %\n",
    "\n",
    "T4, Temperature in office room, in Celsius\n",
    "\n",
    "RH_4, Humidity in office room, in %\n",
    "\n",
    "T5, Temperature in bathroom, in Celsius\n",
    "\n",
    "RH_5, Humidity in bathroom, in %\n",
    "\n",
    "T6, Temperature outside the building (north side), in Celsius\n",
    "\n",
    "RH_6, Humidity outside the building (north side), in %\n",
    "\n",
    "T7, Temperature in ironing room , in Celsius\n",
    "\n",
    "RH_7, Humidity in ironing room, in %\n",
    "\n",
    "T8, Temperature in teenager room 2, in Celsius\n",
    "\n",
    "RH_8, Humidity in teenager room 2, in %\n",
    "\n",
    "T9, Temperature in parents room, in Celsius\n",
    "\n",
    "RH_9, Humidity in parents room, in %\n",
    "\n",
    "To, Temperature outside (from Chievres weather station), in Celsius\n",
    "\n",
    "Pressure (from Chievres weather station), in mm Hg\n",
    "\n",
    "RH_out, Humidity outside (from Chievres weather station), in %\n",
    "\n",
    "Wind speed (from Chievres weather station), in m/s\n",
    "\n",
    "Visibility (from Chievres weather station), in km\n",
    "\n",
    "Tdewpoint (from Chievres weather station), Â °C\n",
    "\n",
    "rv1, Random variable 1, nondimensional\n",
    "\n",
    "rv2, Random variable 2, nondimensional"
   ]
  },
  {
   "cell_type": "code",
   "execution_count": 4,
   "metadata": {},
   "outputs": [],
   "source": [
    "df_model = df.copy()"
   ]
  },
  {
   "cell_type": "code",
   "execution_count": 5,
   "metadata": {},
   "outputs": [
    {
     "data": {
      "text/plain": [
       "(19735, 29)"
      ]
     },
     "execution_count": 5,
     "metadata": {},
     "output_type": "execute_result"
    }
   ],
   "source": [
    "df_model.shape"
   ]
  },
  {
   "cell_type": "code",
   "execution_count": 6,
   "metadata": {},
   "outputs": [],
   "source": [
    "#drop light and date columns\n",
    "df_model = df_model.drop(columns=['date','lights'])"
   ]
  },
  {
   "cell_type": "code",
   "execution_count": 7,
   "metadata": {},
   "outputs": [
    {
     "data": {
      "text/plain": [
       "(19735, 27)"
      ]
     },
     "execution_count": 7,
     "metadata": {},
     "output_type": "execute_result"
    }
   ],
   "source": [
    "df_model.shape"
   ]
  },
  {
   "cell_type": "code",
   "execution_count": 8,
   "metadata": {},
   "outputs": [
    {
     "data": {
      "text/html": [
       "<div>\n",
       "<style scoped>\n",
       "    .dataframe tbody tr th:only-of-type {\n",
       "        vertical-align: middle;\n",
       "    }\n",
       "\n",
       "    .dataframe tbody tr th {\n",
       "        vertical-align: top;\n",
       "    }\n",
       "\n",
       "    .dataframe thead th {\n",
       "        text-align: right;\n",
       "    }\n",
       "</style>\n",
       "<table border=\"1\" class=\"dataframe\">\n",
       "  <thead>\n",
       "    <tr style=\"text-align: right;\">\n",
       "      <th></th>\n",
       "      <th>Appliances</th>\n",
       "      <th>T1</th>\n",
       "      <th>RH_1</th>\n",
       "      <th>T2</th>\n",
       "      <th>RH_2</th>\n",
       "      <th>T3</th>\n",
       "      <th>RH_3</th>\n",
       "      <th>T4</th>\n",
       "      <th>RH_4</th>\n",
       "      <th>T5</th>\n",
       "      <th>RH_5</th>\n",
       "      <th>T6</th>\n",
       "      <th>RH_6</th>\n",
       "      <th>T7</th>\n",
       "      <th>RH_7</th>\n",
       "      <th>T8</th>\n",
       "      <th>RH_8</th>\n",
       "      <th>T9</th>\n",
       "      <th>RH_9</th>\n",
       "      <th>T_out</th>\n",
       "      <th>Press_mm_hg</th>\n",
       "      <th>RH_out</th>\n",
       "      <th>Windspeed</th>\n",
       "      <th>Visibility</th>\n",
       "      <th>Tdewpoint</th>\n",
       "      <th>rv1</th>\n",
       "      <th>rv2</th>\n",
       "    </tr>\n",
       "  </thead>\n",
       "  <tbody>\n",
       "    <tr>\n",
       "      <th>0</th>\n",
       "      <td>60</td>\n",
       "      <td>19.89</td>\n",
       "      <td>47.596667</td>\n",
       "      <td>19.2</td>\n",
       "      <td>44.790000</td>\n",
       "      <td>19.79</td>\n",
       "      <td>44.730000</td>\n",
       "      <td>19.000000</td>\n",
       "      <td>45.566667</td>\n",
       "      <td>17.166667</td>\n",
       "      <td>55.20</td>\n",
       "      <td>7.026667</td>\n",
       "      <td>84.256667</td>\n",
       "      <td>17.200000</td>\n",
       "      <td>41.626667</td>\n",
       "      <td>18.2</td>\n",
       "      <td>48.900000</td>\n",
       "      <td>17.033333</td>\n",
       "      <td>45.53</td>\n",
       "      <td>6.600000</td>\n",
       "      <td>733.5</td>\n",
       "      <td>92.0</td>\n",
       "      <td>7.000000</td>\n",
       "      <td>63.000000</td>\n",
       "      <td>5.3</td>\n",
       "      <td>13.275433</td>\n",
       "      <td>13.275433</td>\n",
       "    </tr>\n",
       "    <tr>\n",
       "      <th>1</th>\n",
       "      <td>60</td>\n",
       "      <td>19.89</td>\n",
       "      <td>46.693333</td>\n",
       "      <td>19.2</td>\n",
       "      <td>44.722500</td>\n",
       "      <td>19.79</td>\n",
       "      <td>44.790000</td>\n",
       "      <td>19.000000</td>\n",
       "      <td>45.992500</td>\n",
       "      <td>17.166667</td>\n",
       "      <td>55.20</td>\n",
       "      <td>6.833333</td>\n",
       "      <td>84.063333</td>\n",
       "      <td>17.200000</td>\n",
       "      <td>41.560000</td>\n",
       "      <td>18.2</td>\n",
       "      <td>48.863333</td>\n",
       "      <td>17.066667</td>\n",
       "      <td>45.56</td>\n",
       "      <td>6.483333</td>\n",
       "      <td>733.6</td>\n",
       "      <td>92.0</td>\n",
       "      <td>6.666667</td>\n",
       "      <td>59.166667</td>\n",
       "      <td>5.2</td>\n",
       "      <td>18.606195</td>\n",
       "      <td>18.606195</td>\n",
       "    </tr>\n",
       "    <tr>\n",
       "      <th>2</th>\n",
       "      <td>50</td>\n",
       "      <td>19.89</td>\n",
       "      <td>46.300000</td>\n",
       "      <td>19.2</td>\n",
       "      <td>44.626667</td>\n",
       "      <td>19.79</td>\n",
       "      <td>44.933333</td>\n",
       "      <td>18.926667</td>\n",
       "      <td>45.890000</td>\n",
       "      <td>17.166667</td>\n",
       "      <td>55.09</td>\n",
       "      <td>6.560000</td>\n",
       "      <td>83.156667</td>\n",
       "      <td>17.200000</td>\n",
       "      <td>41.433333</td>\n",
       "      <td>18.2</td>\n",
       "      <td>48.730000</td>\n",
       "      <td>17.000000</td>\n",
       "      <td>45.50</td>\n",
       "      <td>6.366667</td>\n",
       "      <td>733.7</td>\n",
       "      <td>92.0</td>\n",
       "      <td>6.333333</td>\n",
       "      <td>55.333333</td>\n",
       "      <td>5.1</td>\n",
       "      <td>28.642668</td>\n",
       "      <td>28.642668</td>\n",
       "    </tr>\n",
       "    <tr>\n",
       "      <th>3</th>\n",
       "      <td>50</td>\n",
       "      <td>19.89</td>\n",
       "      <td>46.066667</td>\n",
       "      <td>19.2</td>\n",
       "      <td>44.590000</td>\n",
       "      <td>19.79</td>\n",
       "      <td>45.000000</td>\n",
       "      <td>18.890000</td>\n",
       "      <td>45.723333</td>\n",
       "      <td>17.166667</td>\n",
       "      <td>55.09</td>\n",
       "      <td>6.433333</td>\n",
       "      <td>83.423333</td>\n",
       "      <td>17.133333</td>\n",
       "      <td>41.290000</td>\n",
       "      <td>18.1</td>\n",
       "      <td>48.590000</td>\n",
       "      <td>17.000000</td>\n",
       "      <td>45.40</td>\n",
       "      <td>6.250000</td>\n",
       "      <td>733.8</td>\n",
       "      <td>92.0</td>\n",
       "      <td>6.000000</td>\n",
       "      <td>51.500000</td>\n",
       "      <td>5.0</td>\n",
       "      <td>45.410389</td>\n",
       "      <td>45.410389</td>\n",
       "    </tr>\n",
       "    <tr>\n",
       "      <th>4</th>\n",
       "      <td>60</td>\n",
       "      <td>19.89</td>\n",
       "      <td>46.333333</td>\n",
       "      <td>19.2</td>\n",
       "      <td>44.530000</td>\n",
       "      <td>19.79</td>\n",
       "      <td>45.000000</td>\n",
       "      <td>18.890000</td>\n",
       "      <td>45.530000</td>\n",
       "      <td>17.200000</td>\n",
       "      <td>55.09</td>\n",
       "      <td>6.366667</td>\n",
       "      <td>84.893333</td>\n",
       "      <td>17.200000</td>\n",
       "      <td>41.230000</td>\n",
       "      <td>18.1</td>\n",
       "      <td>48.590000</td>\n",
       "      <td>17.000000</td>\n",
       "      <td>45.40</td>\n",
       "      <td>6.133333</td>\n",
       "      <td>733.9</td>\n",
       "      <td>92.0</td>\n",
       "      <td>5.666667</td>\n",
       "      <td>47.666667</td>\n",
       "      <td>4.9</td>\n",
       "      <td>10.084097</td>\n",
       "      <td>10.084097</td>\n",
       "    </tr>\n",
       "  </tbody>\n",
       "</table>\n",
       "</div>"
      ],
      "text/plain": [
       "   Appliances     T1       RH_1    T2       RH_2     T3       RH_3         T4       RH_4         T5   RH_5        T6       RH_6         T7       RH_7    T8       RH_8         T9   RH_9     T_out  Press_mm_hg  RH_out  Windspeed  Visibility  Tdewpoint        rv1        rv2\n",
       "0          60  19.89  47.596667  19.2  44.790000  19.79  44.730000  19.000000  45.566667  17.166667  55.20  7.026667  84.256667  17.200000  41.626667  18.2  48.900000  17.033333  45.53  6.600000        733.5    92.0   7.000000   63.000000        5.3  13.275433  13.275433\n",
       "1          60  19.89  46.693333  19.2  44.722500  19.79  44.790000  19.000000  45.992500  17.166667  55.20  6.833333  84.063333  17.200000  41.560000  18.2  48.863333  17.066667  45.56  6.483333        733.6    92.0   6.666667   59.166667        5.2  18.606195  18.606195\n",
       "2          50  19.89  46.300000  19.2  44.626667  19.79  44.933333  18.926667  45.890000  17.166667  55.09  6.560000  83.156667  17.200000  41.433333  18.2  48.730000  17.000000  45.50  6.366667        733.7    92.0   6.333333   55.333333        5.1  28.642668  28.642668\n",
       "3          50  19.89  46.066667  19.2  44.590000  19.79  45.000000  18.890000  45.723333  17.166667  55.09  6.433333  83.423333  17.133333  41.290000  18.1  48.590000  17.000000  45.40  6.250000        733.8    92.0   6.000000   51.500000        5.0  45.410389  45.410389\n",
       "4          60  19.89  46.333333  19.2  44.530000  19.79  45.000000  18.890000  45.530000  17.200000  55.09  6.366667  84.893333  17.200000  41.230000  18.1  48.590000  17.000000  45.40  6.133333        733.9    92.0   5.666667   47.666667        4.9  10.084097  10.084097"
      ]
     },
     "execution_count": 8,
     "metadata": {},
     "output_type": "execute_result"
    }
   ],
   "source": [
    "df_model.head()"
   ]
  },
  {
   "cell_type": "code",
   "execution_count": 9,
   "metadata": {},
   "outputs": [],
   "source": [
    "features = df_model.iloc[:,1:]"
   ]
  },
  {
   "cell_type": "code",
   "execution_count": 10,
   "metadata": {},
   "outputs": [
    {
     "data": {
      "text/plain": [
       "Index(['T1', 'RH_1', 'T2', 'RH_2', 'T3', 'RH_3', 'T4', 'RH_4', 'T5', 'RH_5', 'T6', 'RH_6', 'T7', 'RH_7', 'T8', 'RH_8', 'T9', 'RH_9', 'T_out', 'Press_mm_hg', 'RH_out', 'Windspeed', 'Visibility', 'Tdewpoint', 'rv1', 'rv2'], dtype='object')"
      ]
     },
     "execution_count": 10,
     "metadata": {},
     "output_type": "execute_result"
    }
   ],
   "source": [
    "features.columns"
   ]
  },
  {
   "cell_type": "code",
   "execution_count": 15,
   "metadata": {},
   "outputs": [],
   "source": [
    "target = df_model['Appliances']"
   ]
  },
  {
   "cell_type": "code",
   "execution_count": 18,
   "metadata": {},
   "outputs": [
    {
     "data": {
      "text/plain": [
       "(19735,)"
      ]
     },
     "execution_count": 18,
     "metadata": {},
     "output_type": "execute_result"
    }
   ],
   "source": [
    "target.shape"
   ]
  },
  {
   "cell_type": "code",
   "execution_count": 96,
   "metadata": {},
   "outputs": [],
   "source": [
    "#inear model on the relationship between the temperature in the living room in Celsius (x = T2) and the temperature outside the building (y = T6)"
   ]
  },
  {
   "cell_type": "code",
   "execution_count": 98,
   "metadata": {},
   "outputs": [],
   "source": [
    "#Q12\n",
    "X_train,X_test,Y_train,Y_test = train_test_split(features_df['T2'],features_df['T2'],test_size = 0.3,random_state =42)"
   ]
  },
  {
   "cell_type": "code",
   "execution_count": 19,
   "metadata": {},
   "outputs": [],
   "source": [
    "\n",
    "#normalize the dataset\n",
    "from sklearn.preprocessing import MinMaxScaler\n",
    "scalar = MinMaxScaler()"
   ]
  },
  {
   "cell_type": "code",
   "execution_count": 20,
   "metadata": {},
   "outputs": [],
   "source": [
    "df_normal = pd.DataFrame(scalar.fit_transform(df_model),columns=df_model.columns)"
   ]
  },
  {
   "cell_type": "code",
   "execution_count": 21,
   "metadata": {},
   "outputs": [
    {
     "data": {
      "text/html": [
       "<div>\n",
       "<style scoped>\n",
       "    .dataframe tbody tr th:only-of-type {\n",
       "        vertical-align: middle;\n",
       "    }\n",
       "\n",
       "    .dataframe tbody tr th {\n",
       "        vertical-align: top;\n",
       "    }\n",
       "\n",
       "    .dataframe thead th {\n",
       "        text-align: right;\n",
       "    }\n",
       "</style>\n",
       "<table border=\"1\" class=\"dataframe\">\n",
       "  <thead>\n",
       "    <tr style=\"text-align: right;\">\n",
       "      <th></th>\n",
       "      <th>Appliances</th>\n",
       "      <th>T1</th>\n",
       "      <th>RH_1</th>\n",
       "      <th>T2</th>\n",
       "      <th>RH_2</th>\n",
       "      <th>T3</th>\n",
       "      <th>RH_3</th>\n",
       "      <th>T4</th>\n",
       "      <th>RH_4</th>\n",
       "      <th>T5</th>\n",
       "      <th>RH_5</th>\n",
       "      <th>T6</th>\n",
       "      <th>RH_6</th>\n",
       "      <th>T7</th>\n",
       "      <th>RH_7</th>\n",
       "      <th>T8</th>\n",
       "      <th>RH_8</th>\n",
       "      <th>T9</th>\n",
       "      <th>RH_9</th>\n",
       "      <th>T_out</th>\n",
       "      <th>Press_mm_hg</th>\n",
       "      <th>RH_out</th>\n",
       "      <th>Windspeed</th>\n",
       "      <th>Visibility</th>\n",
       "      <th>Tdewpoint</th>\n",
       "      <th>rv1</th>\n",
       "      <th>rv2</th>\n",
       "    </tr>\n",
       "  </thead>\n",
       "  <tbody>\n",
       "    <tr>\n",
       "      <th>0</th>\n",
       "      <td>0.046729</td>\n",
       "      <td>0.32735</td>\n",
       "      <td>0.566187</td>\n",
       "      <td>0.225345</td>\n",
       "      <td>0.684038</td>\n",
       "      <td>0.215188</td>\n",
       "      <td>0.746066</td>\n",
       "      <td>0.351351</td>\n",
       "      <td>0.764262</td>\n",
       "      <td>0.175506</td>\n",
       "      <td>0.381691</td>\n",
       "      <td>0.381070</td>\n",
       "      <td>0.841827</td>\n",
       "      <td>0.170594</td>\n",
       "      <td>0.653428</td>\n",
       "      <td>0.173329</td>\n",
       "      <td>0.661412</td>\n",
       "      <td>0.223032</td>\n",
       "      <td>0.677290</td>\n",
       "      <td>0.372990</td>\n",
       "      <td>0.097674</td>\n",
       "      <td>0.894737</td>\n",
       "      <td>0.500000</td>\n",
       "      <td>0.953846</td>\n",
       "      <td>0.538462</td>\n",
       "      <td>0.265449</td>\n",
       "      <td>0.265449</td>\n",
       "    </tr>\n",
       "    <tr>\n",
       "      <th>1</th>\n",
       "      <td>0.046729</td>\n",
       "      <td>0.32735</td>\n",
       "      <td>0.541326</td>\n",
       "      <td>0.225345</td>\n",
       "      <td>0.682140</td>\n",
       "      <td>0.215188</td>\n",
       "      <td>0.748871</td>\n",
       "      <td>0.351351</td>\n",
       "      <td>0.782437</td>\n",
       "      <td>0.175506</td>\n",
       "      <td>0.381691</td>\n",
       "      <td>0.375443</td>\n",
       "      <td>0.839872</td>\n",
       "      <td>0.170594</td>\n",
       "      <td>0.651064</td>\n",
       "      <td>0.173329</td>\n",
       "      <td>0.660155</td>\n",
       "      <td>0.226500</td>\n",
       "      <td>0.678532</td>\n",
       "      <td>0.369239</td>\n",
       "      <td>0.100000</td>\n",
       "      <td>0.894737</td>\n",
       "      <td>0.476190</td>\n",
       "      <td>0.894872</td>\n",
       "      <td>0.533937</td>\n",
       "      <td>0.372083</td>\n",
       "      <td>0.372083</td>\n",
       "    </tr>\n",
       "    <tr>\n",
       "      <th>2</th>\n",
       "      <td>0.037383</td>\n",
       "      <td>0.32735</td>\n",
       "      <td>0.530502</td>\n",
       "      <td>0.225345</td>\n",
       "      <td>0.679445</td>\n",
       "      <td>0.215188</td>\n",
       "      <td>0.755569</td>\n",
       "      <td>0.344745</td>\n",
       "      <td>0.778062</td>\n",
       "      <td>0.175506</td>\n",
       "      <td>0.380037</td>\n",
       "      <td>0.367487</td>\n",
       "      <td>0.830704</td>\n",
       "      <td>0.170594</td>\n",
       "      <td>0.646572</td>\n",
       "      <td>0.173329</td>\n",
       "      <td>0.655586</td>\n",
       "      <td>0.219563</td>\n",
       "      <td>0.676049</td>\n",
       "      <td>0.365488</td>\n",
       "      <td>0.102326</td>\n",
       "      <td>0.894737</td>\n",
       "      <td>0.452381</td>\n",
       "      <td>0.835897</td>\n",
       "      <td>0.529412</td>\n",
       "      <td>0.572848</td>\n",
       "      <td>0.572848</td>\n",
       "    </tr>\n",
       "    <tr>\n",
       "      <th>3</th>\n",
       "      <td>0.037383</td>\n",
       "      <td>0.32735</td>\n",
       "      <td>0.524080</td>\n",
       "      <td>0.225345</td>\n",
       "      <td>0.678414</td>\n",
       "      <td>0.215188</td>\n",
       "      <td>0.758685</td>\n",
       "      <td>0.341441</td>\n",
       "      <td>0.770949</td>\n",
       "      <td>0.175506</td>\n",
       "      <td>0.380037</td>\n",
       "      <td>0.363800</td>\n",
       "      <td>0.833401</td>\n",
       "      <td>0.164310</td>\n",
       "      <td>0.641489</td>\n",
       "      <td>0.164175</td>\n",
       "      <td>0.650788</td>\n",
       "      <td>0.219563</td>\n",
       "      <td>0.671909</td>\n",
       "      <td>0.361736</td>\n",
       "      <td>0.104651</td>\n",
       "      <td>0.894737</td>\n",
       "      <td>0.428571</td>\n",
       "      <td>0.776923</td>\n",
       "      <td>0.524887</td>\n",
       "      <td>0.908261</td>\n",
       "      <td>0.908261</td>\n",
       "    </tr>\n",
       "    <tr>\n",
       "      <th>4</th>\n",
       "      <td>0.046729</td>\n",
       "      <td>0.32735</td>\n",
       "      <td>0.531419</td>\n",
       "      <td>0.225345</td>\n",
       "      <td>0.676727</td>\n",
       "      <td>0.215188</td>\n",
       "      <td>0.758685</td>\n",
       "      <td>0.341441</td>\n",
       "      <td>0.762697</td>\n",
       "      <td>0.178691</td>\n",
       "      <td>0.380037</td>\n",
       "      <td>0.361859</td>\n",
       "      <td>0.848264</td>\n",
       "      <td>0.170594</td>\n",
       "      <td>0.639362</td>\n",
       "      <td>0.164175</td>\n",
       "      <td>0.650788</td>\n",
       "      <td>0.219563</td>\n",
       "      <td>0.671909</td>\n",
       "      <td>0.357985</td>\n",
       "      <td>0.106977</td>\n",
       "      <td>0.894737</td>\n",
       "      <td>0.404762</td>\n",
       "      <td>0.717949</td>\n",
       "      <td>0.520362</td>\n",
       "      <td>0.201611</td>\n",
       "      <td>0.201611</td>\n",
       "    </tr>\n",
       "  </tbody>\n",
       "</table>\n",
       "</div>"
      ],
      "text/plain": [
       "   Appliances       T1      RH_1        T2      RH_2        T3      RH_3        T4      RH_4        T5      RH_5        T6      RH_6        T7      RH_7        T8      RH_8        T9      RH_9     T_out  Press_mm_hg    RH_out  Windspeed  Visibility  Tdewpoint       rv1       rv2\n",
       "0    0.046729  0.32735  0.566187  0.225345  0.684038  0.215188  0.746066  0.351351  0.764262  0.175506  0.381691  0.381070  0.841827  0.170594  0.653428  0.173329  0.661412  0.223032  0.677290  0.372990     0.097674  0.894737   0.500000    0.953846   0.538462  0.265449  0.265449\n",
       "1    0.046729  0.32735  0.541326  0.225345  0.682140  0.215188  0.748871  0.351351  0.782437  0.175506  0.381691  0.375443  0.839872  0.170594  0.651064  0.173329  0.660155  0.226500  0.678532  0.369239     0.100000  0.894737   0.476190    0.894872   0.533937  0.372083  0.372083\n",
       "2    0.037383  0.32735  0.530502  0.225345  0.679445  0.215188  0.755569  0.344745  0.778062  0.175506  0.380037  0.367487  0.830704  0.170594  0.646572  0.173329  0.655586  0.219563  0.676049  0.365488     0.102326  0.894737   0.452381    0.835897   0.529412  0.572848  0.572848\n",
       "3    0.037383  0.32735  0.524080  0.225345  0.678414  0.215188  0.758685  0.341441  0.770949  0.175506  0.380037  0.363800  0.833401  0.164310  0.641489  0.164175  0.650788  0.219563  0.671909  0.361736     0.104651  0.894737   0.428571    0.776923   0.524887  0.908261  0.908261\n",
       "4    0.046729  0.32735  0.531419  0.225345  0.676727  0.215188  0.758685  0.341441  0.762697  0.178691  0.380037  0.361859  0.848264  0.170594  0.639362  0.164175  0.650788  0.219563  0.671909  0.357985     0.106977  0.894737   0.404762    0.717949   0.520362  0.201611  0.201611"
      ]
     },
     "execution_count": 21,
     "metadata": {},
     "output_type": "execute_result"
    }
   ],
   "source": [
    "df_normal.head()"
   ]
  },
  {
   "cell_type": "code",
   "execution_count": 29,
   "metadata": {},
   "outputs": [],
   "source": [
    "features_df = df_normal.iloc[:,1:]"
   ]
  },
  {
   "cell_type": "code",
   "execution_count": 54,
   "metadata": {},
   "outputs": [
    {
     "data": {
      "text/plain": [
       "(19735, 26)"
      ]
     },
     "execution_count": 54,
     "metadata": {},
     "output_type": "execute_result"
    }
   ],
   "source": [
    "features_df.shape"
   ]
  },
  {
   "cell_type": "code",
   "execution_count": 30,
   "metadata": {},
   "outputs": [],
   "source": [
    "target = df_normal['Appliances']"
   ]
  },
  {
   "cell_type": "code",
   "execution_count": 31,
   "metadata": {},
   "outputs": [],
   "source": [
    "from sklearn.model_selection import train_test_split"
   ]
  },
  {
   "cell_type": "code",
   "execution_count": 32,
   "metadata": {},
   "outputs": [],
   "source": [
    "x_train,x_test,y_train,y_test = train_test_split(features_df,target,test_size = 0.3,random_state =42)"
   ]
  },
  {
   "cell_type": "code",
   "execution_count": 33,
   "metadata": {},
   "outputs": [
    {
     "data": {
      "text/plain": [
       "LinearRegression(copy_X=True, fit_intercept=True, n_jobs=1, normalize=False)"
      ]
     },
     "execution_count": 33,
     "metadata": {},
     "output_type": "execute_result"
    }
   ],
   "source": [
    "liner_regression.fit(x_train,y_train)"
   ]
  },
  {
   "cell_type": "code",
   "execution_count": 34,
   "metadata": {},
   "outputs": [],
   "source": [
    "predicted = liner_regression.predict(x_test)"
   ]
  },
  {
   "cell_type": "code",
   "execution_count": 36,
   "metadata": {},
   "outputs": [],
   "source": [
    "#mean absolute error\n",
    "from sklearn.metrics import mean_absolute_error"
   ]
  },
  {
   "cell_type": "code",
   "execution_count": 80,
   "metadata": {},
   "outputs": [
    {
     "name": "stdout",
     "output_type": "stream",
     "text": [
      "mean absolute error of linear model:  0.05\n"
     ]
    }
   ],
   "source": [
    "mae = mean_absolute_error(y_test,predicted) \n",
    "\n",
    "mae = round(mae,2)\n",
    "print(\"mean absolute error of linear model: \",mae)\n"
   ]
  },
  {
   "cell_type": "code",
   "execution_count": 40,
   "metadata": {},
   "outputs": [],
   "source": [
    "#rMSE\n",
    "from sklearn.metrics import mean_squared_error"
   ]
  },
  {
   "cell_type": "code",
   "execution_count": 42,
   "metadata": {},
   "outputs": [],
   "source": [
    "rmse = np.sqrt(mean_squared_error(y_test,predicted))"
   ]
  },
  {
   "cell_type": "code",
   "execution_count": 81,
   "metadata": {},
   "outputs": [
    {
     "name": "stdout",
     "output_type": "stream",
     "text": [
      "Root Mean Squared Error of linear model:  0.088\n"
     ]
    }
   ],
   "source": [
    "rmse = round(rmse,3)\n",
    "print(\"Root Mean Squared Error of linear model: \",rmse)"
   ]
  },
  {
   "cell_type": "code",
   "execution_count": 44,
   "metadata": {},
   "outputs": [],
   "source": [
    "#residual sum of squares\n",
    "rss = np.sum(np.square(y_test - predicted))"
   ]
  },
  {
   "cell_type": "code",
   "execution_count": 82,
   "metadata": {},
   "outputs": [
    {
     "name": "stdout",
     "output_type": "stream",
     "text": [
      "Residual Sum of Squares of linear model:  45.35\n"
     ]
    }
   ],
   "source": [
    "rss = round(rss,2)\n",
    "print(\"Residual Sum of Squares of linear model: \",rss)"
   ]
  },
  {
   "cell_type": "code",
   "execution_count": 92,
   "metadata": {},
   "outputs": [],
   "source": [
    "#Coefficient of Determination \n",
    "from sklearn.metrics import r2_score"
   ]
  },
  {
   "cell_type": "code",
   "execution_count": 93,
   "metadata": {
    "scrolled": true
   },
   "outputs": [],
   "source": [
    "r2_score = r2_score(y_test,predicted)\n"
   ]
  },
  {
   "cell_type": "code",
   "execution_count": 95,
   "metadata": {},
   "outputs": [
    {
     "data": {
      "text/plain": [
       "0.15"
      ]
     },
     "execution_count": 95,
     "metadata": {},
     "output_type": "execute_result"
    }
   ],
   "source": [
    "round(r2_score,2)"
   ]
  },
  {
   "cell_type": "code",
   "execution_count": 51,
   "metadata": {},
   "outputs": [],
   "source": [
    "#higheest weights\n",
    "weight = pd.Series(liner_regression.coef_,features_df.columns).sort_values()"
   ]
  },
  {
   "cell_type": "code",
   "execution_count": 58,
   "metadata": {},
   "outputs": [
    {
     "data": {
      "text/plain": [
       "RH_2          -0.456698\n",
       "T_out         -0.321860\n",
       "T2            -0.236178\n",
       "T9            -0.189941\n",
       "RH_8          -0.157595\n",
       "RH_out        -0.077671\n",
       "RH_7          -0.044614\n",
       "RH_9          -0.039800\n",
       "T5            -0.015657\n",
       "T1            -0.003281\n",
       "rv1            0.000770\n",
       "rv2            0.000770\n",
       "Press_mm_hg    0.006839\n",
       "T7             0.010319\n",
       "Visibility     0.012307\n",
       "RH_5           0.016006\n",
       "RH_4           0.026386\n",
       "T4             0.028981\n",
       "Windspeed      0.029183\n",
       "RH_6           0.038049\n",
       "RH_3           0.096048\n",
       "T8             0.101995\n",
       "Tdewpoint      0.117758\n",
       "T6             0.236425\n",
       "T3             0.290627\n",
       "RH_1           0.553547\n",
       "dtype: float64"
      ]
     },
     "execution_count": 58,
     "metadata": {},
     "output_type": "execute_result"
    }
   ],
   "source": [
    "weight"
   ]
  },
  {
   "cell_type": "code",
   "execution_count": 60,
   "metadata": {},
   "outputs": [],
   "source": [
    "#ridge regression model \n",
    "from sklearn.linear_model import Ridge\n",
    "ridge_reg = Ridge(alpha = 0.4)"
   ]
  },
  {
   "cell_type": "code",
   "execution_count": 61,
   "metadata": {
    "scrolled": true
   },
   "outputs": [
    {
     "data": {
      "text/plain": [
       "Ridge(alpha=0.4, copy_X=True, fit_intercept=True, max_iter=None,\n",
       "   normalize=False, random_state=None, solver='auto', tol=0.001)"
      ]
     },
     "execution_count": 61,
     "metadata": {},
     "output_type": "execute_result"
    }
   ],
   "source": [
    "#fit model\n",
    "ridge_reg.fit(x_train,y_train)"
   ]
  },
  {
   "cell_type": "code",
   "execution_count": 62,
   "metadata": {},
   "outputs": [],
   "source": [
    "#predict test\n",
    "pred_ridge = ridge_reg.predict(x_test)"
   ]
  },
  {
   "cell_type": "code",
   "execution_count": 64,
   "metadata": {},
   "outputs": [
    {
     "data": {
      "text/plain": [
       "0.088"
      ]
     },
     "execution_count": 64,
     "metadata": {},
     "output_type": "execute_result"
    }
   ],
   "source": [
    "#evaluate model rmse\n",
    "rmse_ridge = np.sqrt(mean_squared_error(y_test,pred_ridge))\n",
    "round(rmse_ridge,3)"
   ]
  },
  {
   "cell_type": "code",
   "execution_count": 65,
   "metadata": {},
   "outputs": [],
   "source": [
    "#train lasso model\n",
    "from sklearn.linear_model import Lasso\n",
    "lasso_reg = Lasso(alpha=0.001)"
   ]
  },
  {
   "cell_type": "code",
   "execution_count": 66,
   "metadata": {},
   "outputs": [
    {
     "data": {
      "text/plain": [
       "Lasso(alpha=0.001, copy_X=True, fit_intercept=True, max_iter=1000,\n",
       "   normalize=False, positive=False, precompute=False, random_state=None,\n",
       "   selection='cyclic', tol=0.0001, warm_start=False)"
      ]
     },
     "execution_count": 66,
     "metadata": {},
     "output_type": "execute_result"
    }
   ],
   "source": [
    "#fit model\n",
    "lasso_reg.fit(x_train,y_train)"
   ]
  },
  {
   "cell_type": "code",
   "execution_count": 67,
   "metadata": {},
   "outputs": [
    {
     "data": {
      "text/plain": [
       "0.094"
      ]
     },
     "execution_count": 67,
     "metadata": {},
     "output_type": "execute_result"
    }
   ],
   "source": [
    "#evaluate model rmse\n",
    "pred_lasso = lasso_reg.predict(x_test)\n",
    "rmse_lasso = np.sqrt(mean_squared_error(y_test,pred_lasso))\n",
    "round(rmse_lasso,3)"
   ]
  },
  {
   "cell_type": "code",
   "execution_count": 68,
   "metadata": {},
   "outputs": [],
   "source": [
    "#check feature weights\n",
    "lasso_weight = pd.Series(lasso_reg.coef_,features_df.columns).sort_values()"
   ]
  },
  {
   "cell_type": "code",
   "execution_count": 73,
   "metadata": {},
   "outputs": [
    {
     "data": {
      "text/plain": [
       "RH_out        -0.049557\n",
       "RH_8          -0.000110\n",
       "T1             0.000000\n",
       "Tdewpoint      0.000000\n",
       "Visibility     0.000000\n",
       "Press_mm_hg   -0.000000\n",
       "T_out          0.000000\n",
       "RH_9          -0.000000\n",
       "T9            -0.000000\n",
       "T8             0.000000\n",
       "RH_7          -0.000000\n",
       "rv1           -0.000000\n",
       "T7            -0.000000\n",
       "T6             0.000000\n",
       "RH_5           0.000000\n",
       "T5            -0.000000\n",
       "RH_4           0.000000\n",
       "T4            -0.000000\n",
       "RH_3           0.000000\n",
       "T3             0.000000\n",
       "RH_2          -0.000000\n",
       "T2             0.000000\n",
       "RH_6          -0.000000\n",
       "rv2           -0.000000\n",
       "Windspeed      0.002912\n",
       "RH_1           0.017880\n",
       "dtype: float64"
      ]
     },
     "execution_count": 73,
     "metadata": {},
     "output_type": "execute_result"
    }
   ],
   "source": [
    "#\n",
    "lasso_weight "
   ]
  },
  {
   "cell_type": "code",
   "execution_count": null,
   "metadata": {},
   "outputs": [],
   "source": []
  }
 ],
 "metadata": {
  "kernelspec": {
   "display_name": "Python 3",
   "language": "python",
   "name": "python3"
  },
  "language_info": {
   "codemirror_mode": {
    "name": "ipython",
    "version": 3
   },
   "file_extension": ".py",
   "mimetype": "text/x-python",
   "name": "python",
   "nbconvert_exporter": "python",
   "pygments_lexer": "ipython3",
   "version": "3.7.2"
  }
 },
 "nbformat": 4,
 "nbformat_minor": 2
}
